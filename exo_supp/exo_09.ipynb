{
 "cells": [
  {
   "cell_type": "markdown",
   "metadata": {},
   "source": [
    "Téléchargez le fichier CSV \"email_jetable.csv\" à partir du lien suivant : https://sql.sh/ressources/sql-email-jetable/email_jetable.csv\n",
    "\n",
    "Chargez le fichier dans un DataFrame nommé \"emails_df\".\n",
    "\n",
    "Donnez un nom aux colonnes: [index, emails]\n",
    "\n",
    "Créez une nouvelle colonne \"extension\" contenant uniquement l’extension du domaines des adresses e-mail (com, fr etc…).\n",
    "\n",
    "Affichez les valeurs unique de la colonne “extension”"
   ]
  },
  {
   "cell_type": "code",
   "execution_count": 2,
   "metadata": {},
   "outputs": [],
   "source": [
    "import pandas as pd"
   ]
  },
  {
   "cell_type": "code",
   "execution_count": 3,
   "metadata": {},
   "outputs": [],
   "source": [
    "df_email = pd.read_csv(\"files/email_jetable.csv\")"
   ]
  },
  {
   "cell_type": "code",
   "execution_count": 4,
   "metadata": {},
   "outputs": [],
   "source": [
    "df_email.rename(columns={\"1\":\"index\", \"0815.ru0clickemail.com\":\"emails\"},inplace=True)"
   ]
  },
  {
   "cell_type": "code",
   "execution_count": 36,
   "metadata": {},
   "outputs": [],
   "source": [
    "df_email['extension'] = df_email['emails'].str.split(\".\",expand=True)[1]"
   ]
  },
  {
   "cell_type": "code",
   "execution_count": 42,
   "metadata": {},
   "outputs": [
    {
     "data": {
      "text/plain": [
       "array(['com', 'net', 'org', 'us', 'de', 'ht', 'info', 'lawlita', 'fr',\n",
       "       'blogos', 'in', 'it', 'w3internet', 'tk', 'co', 'biz', 'eu', 'by',\n",
       "       'mezimages', 'lv', 'cc', 'zik', 'nu', 'web', 'wwwnew', 'ws', 'xl',\n",
       "       'ze', 'at', 'me', 'comsafe-mail', 'naar', 'la', 'ru', '1s'],\n",
       "      dtype=object)"
      ]
     },
     "execution_count": 42,
     "metadata": {},
     "output_type": "execute_result"
    }
   ],
   "source": [
    "df_email['extension'].unique()"
   ]
  }
 ],
 "metadata": {
  "kernelspec": {
   "display_name": "Python 3",
   "language": "python",
   "name": "python3"
  },
  "language_info": {
   "codemirror_mode": {
    "name": "ipython",
    "version": 3
   },
   "file_extension": ".py",
   "mimetype": "text/x-python",
   "name": "python",
   "nbconvert_exporter": "python",
   "pygments_lexer": "ipython3",
   "version": "3.11.3"
  },
  "orig_nbformat": 4
 },
 "nbformat": 4,
 "nbformat_minor": 2
}
