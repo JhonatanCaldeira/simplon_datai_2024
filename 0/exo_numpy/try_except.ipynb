{
 "cells": [
  {
   "cell_type": "markdown",
   "metadata": {},
   "source": [
    "##### L'instruction try… except. Les clauses try et except fonctionnent ensemble.\n",
    "##### Elles permettent de tester (try) un code qui peut potentiellement poser\n",
    "##### problème et de définir les actions à prendre si une exception est effectivement rencontrée (except)"
   ]
  },
  {
   "cell_type": "code",
   "execution_count": 3,
   "metadata": {},
   "outputs": [
    {
     "name": "stdout",
     "output_type": "stream",
     "text": [
      "Hi\n"
     ]
    },
    {
     "ename": "ZeroDivisionError",
     "evalue": "division by zero",
     "output_type": "error",
     "traceback": [
      "\u001b[1;31m---------------------------------------------------------------------------\u001b[0m",
      "\u001b[1;31mZeroDivisionError\u001b[0m                         Traceback (most recent call last)",
      "\u001b[1;32mc:\\Users\\jhona\\Desenvolvimento\\FormationSimplon\\simplon_datai_2024\\0\\exo_numpy\\try_except.ipynb Cell 2\u001b[0m line \u001b[0;36m2\n\u001b[0;32m      <a href='vscode-notebook-cell:/c%3A/Users/jhona/Desenvolvimento/FormationSimplon/simplon_datai_2024/0/exo_numpy/try_except.ipynb#W3sZmlsZQ%3D%3D?line=0'>1</a>\u001b[0m \u001b[39mprint\u001b[39m(\u001b[39m'\u001b[39m\u001b[39mHi\u001b[39m\u001b[39m'\u001b[39m)\n\u001b[1;32m----> <a href='vscode-notebook-cell:/c%3A/Users/jhona/Desenvolvimento/FormationSimplon/simplon_datai_2024/0/exo_numpy/try_except.ipynb#W3sZmlsZQ%3D%3D?line=1'>2</a>\u001b[0m \u001b[39mprint\u001b[39m(\u001b[39m2\u001b[39;49m\u001b[39m/\u001b[39;49m\u001b[39m0\u001b[39;49m)\n\u001b[0;32m      <a href='vscode-notebook-cell:/c%3A/Users/jhona/Desenvolvimento/FormationSimplon/simplon_datai_2024/0/exo_numpy/try_except.ipynb#W3sZmlsZQ%3D%3D?line=2'>3</a>\u001b[0m \u001b[39mprint\u001b[39m(\u001b[39m'\u001b[39m\u001b[39mbye\u001b[39m\u001b[39m'\u001b[39m)\n",
      "\u001b[1;31mZeroDivisionError\u001b[0m: division by zero"
     ]
    }
   ],
   "source": [
    "print('Hi')\n",
    "print(2/0)\n",
    "print('bye')"
   ]
  },
  {
   "cell_type": "code",
   "execution_count": 6,
   "metadata": {},
   "outputs": [
    {
     "name": "stdout",
     "output_type": "stream",
     "text": [
      "On ne peux pas diviser par zero\n",
      "Finally\n",
      "Après le bloc Try\n"
     ]
    }
   ],
   "source": [
    "try:\n",
    "    num_1 = input('Choisissez le dividende: ')\n",
    "    num_2 = input('Choisissez le diviseur: ')\n",
    "\n",
    "    result = int(num_1) / int(num_2)\n",
    "    print(f\"{num_1} / {num_2} = {result}\")\n",
    "\n",
    "except (ZeroDivisionError):\n",
    "    print('On ne peux pas diviser par zero')\n",
    "except (Exception) as e:\n",
    "    print('Erreur: ', e)\n",
    "else:\n",
    "    print('Calcule effectue')\n",
    "finally:\n",
    "    print('Finally')\n",
    "\n",
    "print('Après le bloc Try')\n"
   ]
  },
  {
   "cell_type": "code",
   "execution_count": 7,
   "metadata": {},
   "outputs": [
    {
     "name": "stdout",
     "output_type": "stream",
     "text": [
      "FILE:  TEST\n",
      "\n",
      "Erreur:  not writable\n",
      "On a fermé le fichier\n"
     ]
    }
   ],
   "source": [
    "try:\n",
    "    txt = open('Readme.md', 'r')\n",
    "    print(\"FILE: \", txt.readline())\n",
    "    print(\"\")\n",
    "    txt.write(\"TEST 02\")\n",
    "    txt.close()\n",
    "except Exception as e:\n",
    "    print('Erreur: ', e)\n",
    "finally:\n",
    "    txt.close()\n",
    "    print('On a fermé le fichier')\n"
   ]
  }
 ],
 "metadata": {
  "kernelspec": {
   "display_name": "Python 3",
   "language": "python",
   "name": "python3"
  },
  "language_info": {
   "codemirror_mode": {
    "name": "ipython",
    "version": 3
   },
   "file_extension": ".py",
   "mimetype": "text/x-python",
   "name": "python",
   "nbconvert_exporter": "python",
   "pygments_lexer": "ipython3",
   "version": "3.11.3"
  },
  "orig_nbformat": 4
 },
 "nbformat": 4,
 "nbformat_minor": 2
}
